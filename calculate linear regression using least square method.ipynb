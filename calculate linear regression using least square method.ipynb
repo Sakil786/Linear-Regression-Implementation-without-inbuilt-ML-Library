{
 "cells": [
  {
   "cell_type": "markdown",
   "id": "2b98807c",
   "metadata": {},
   "source": [
    "# Goal:\n",
    "\n",
    "* To calculate b1 from the linear regression without using any machine learning inbuilt library\n",
    "* To calculate b0 from the linear regression without using any machine learning inbuilt library\n",
    "* To create pipeline for each step"
   ]
  },
  {
   "cell_type": "code",
   "execution_count": 1,
   "id": "476c5bb8",
   "metadata": {},
   "outputs": [],
   "source": [
    "#importing necessary libraries\n",
    "import pandas as pd"
   ]
  },
  {
   "cell_type": "code",
   "execution_count": 5,
   "id": "07cd3fbe",
   "metadata": {},
   "outputs": [],
   "source": [
    "#taking data\n",
    "# this functions will return dataframe containing x and y\n",
    "def feature_data(x,y):\n",
    "    data1=pd.DataFrame(x,columns={\"x\"})\n",
    "    data2=pd.DataFrame(y,columns={\"y\"})\n",
    "    data=pd.concat([data1,data2],axis=1)\n",
    "    return data\n",
    "    "
   ]
  },
  {
   "cell_type": "code",
   "execution_count": 6,
   "id": "141f0e33",
   "metadata": {
    "scrolled": true
   },
   "outputs": [
    {
     "data": {
      "text/html": [
       "<div>\n",
       "<style scoped>\n",
       "    .dataframe tbody tr th:only-of-type {\n",
       "        vertical-align: middle;\n",
       "    }\n",
       "\n",
       "    .dataframe tbody tr th {\n",
       "        vertical-align: top;\n",
       "    }\n",
       "\n",
       "    .dataframe thead th {\n",
       "        text-align: right;\n",
       "    }\n",
       "</style>\n",
       "<table border=\"1\" class=\"dataframe\">\n",
       "  <thead>\n",
       "    <tr style=\"text-align: right;\">\n",
       "      <th></th>\n",
       "      <th>x</th>\n",
       "      <th>y</th>\n",
       "    </tr>\n",
       "  </thead>\n",
       "  <tbody>\n",
       "    <tr>\n",
       "      <th>0</th>\n",
       "      <td>1</td>\n",
       "      <td>2</td>\n",
       "    </tr>\n",
       "    <tr>\n",
       "      <th>1</th>\n",
       "      <td>2</td>\n",
       "      <td>4</td>\n",
       "    </tr>\n",
       "    <tr>\n",
       "      <th>2</th>\n",
       "      <td>3</td>\n",
       "      <td>5</td>\n",
       "    </tr>\n",
       "    <tr>\n",
       "      <th>3</th>\n",
       "      <td>4</td>\n",
       "      <td>4</td>\n",
       "    </tr>\n",
       "    <tr>\n",
       "      <th>4</th>\n",
       "      <td>5</td>\n",
       "      <td>5</td>\n",
       "    </tr>\n",
       "  </tbody>\n",
       "</table>\n",
       "</div>"
      ],
      "text/plain": [
       "   x  y\n",
       "0  1  2\n",
       "1  2  4\n",
       "2  3  5\n",
       "3  4  4\n",
       "4  5  5"
      ]
     },
     "execution_count": 6,
     "metadata": {},
     "output_type": "execute_result"
    }
   ],
   "source": [
    "feature_data([1,2,3,4,5],[2,4,5,4,5])"
   ]
  },
  {
   "cell_type": "code",
   "execution_count": 9,
   "id": "dc38bf9c",
   "metadata": {},
   "outputs": [],
   "source": [
    "#this function returns the mean of x and y\n",
    "def mean_data(x,y):\n",
    "    data_mean=feature_data(x,y)\n",
    "    x_mean=data_mean['x'].mean()\n",
    "    y_mean=data_mean['y'].mean()\n",
    "    return x_mean,y_mean"
   ]
  },
  {
   "cell_type": "code",
   "execution_count": 10,
   "id": "22671e8d",
   "metadata": {},
   "outputs": [
    {
     "data": {
      "text/plain": [
       "(3.0, 4.0)"
      ]
     },
     "execution_count": 10,
     "metadata": {},
     "output_type": "execute_result"
    }
   ],
   "source": [
    "mean_data([1,2,3,4,5],[2,4,5,4,5])"
   ]
  },
  {
   "cell_type": "code",
   "execution_count": 13,
   "id": "3133eb24",
   "metadata": {},
   "outputs": [],
   "source": [
    "# this function helps in the preparation of the data for the calculation of b1 and b0 from the equation\n",
    "def data_preparation(x,y):\n",
    "    data_pre=feature_data(x,y)\n",
    "    x_mean,y_mean=mean_data(x,y)\n",
    "    data_pre['x-x_mean']=data_pre['x']-x_mean\n",
    "    data_pre['y-y_mean']=data_pre['y']-y_mean\n",
    "    data_pre['(x-x_mean)2']=data_pre['x-x_mean']**2\n",
    "    data_pre['(x-x_mean)(y-y_mean)']=data_pre['x-x_mean']*data_pre['y-y_mean']\n",
    "    return data_pre\n",
    "    "
   ]
  },
  {
   "cell_type": "code",
   "execution_count": 14,
   "id": "d51799ff",
   "metadata": {
    "scrolled": true
   },
   "outputs": [
    {
     "data": {
      "text/html": [
       "<div>\n",
       "<style scoped>\n",
       "    .dataframe tbody tr th:only-of-type {\n",
       "        vertical-align: middle;\n",
       "    }\n",
       "\n",
       "    .dataframe tbody tr th {\n",
       "        vertical-align: top;\n",
       "    }\n",
       "\n",
       "    .dataframe thead th {\n",
       "        text-align: right;\n",
       "    }\n",
       "</style>\n",
       "<table border=\"1\" class=\"dataframe\">\n",
       "  <thead>\n",
       "    <tr style=\"text-align: right;\">\n",
       "      <th></th>\n",
       "      <th>x</th>\n",
       "      <th>y</th>\n",
       "      <th>x-x_mean</th>\n",
       "      <th>y-y_mean</th>\n",
       "      <th>(x-x_mean)2</th>\n",
       "      <th>(x-x_mean)(y-y_mean)</th>\n",
       "    </tr>\n",
       "  </thead>\n",
       "  <tbody>\n",
       "    <tr>\n",
       "      <th>0</th>\n",
       "      <td>1</td>\n",
       "      <td>2</td>\n",
       "      <td>-2.0</td>\n",
       "      <td>-2.0</td>\n",
       "      <td>4.0</td>\n",
       "      <td>4.0</td>\n",
       "    </tr>\n",
       "    <tr>\n",
       "      <th>1</th>\n",
       "      <td>2</td>\n",
       "      <td>4</td>\n",
       "      <td>-1.0</td>\n",
       "      <td>0.0</td>\n",
       "      <td>1.0</td>\n",
       "      <td>-0.0</td>\n",
       "    </tr>\n",
       "    <tr>\n",
       "      <th>2</th>\n",
       "      <td>3</td>\n",
       "      <td>5</td>\n",
       "      <td>0.0</td>\n",
       "      <td>1.0</td>\n",
       "      <td>0.0</td>\n",
       "      <td>0.0</td>\n",
       "    </tr>\n",
       "    <tr>\n",
       "      <th>3</th>\n",
       "      <td>4</td>\n",
       "      <td>4</td>\n",
       "      <td>1.0</td>\n",
       "      <td>0.0</td>\n",
       "      <td>1.0</td>\n",
       "      <td>0.0</td>\n",
       "    </tr>\n",
       "    <tr>\n",
       "      <th>4</th>\n",
       "      <td>5</td>\n",
       "      <td>5</td>\n",
       "      <td>2.0</td>\n",
       "      <td>1.0</td>\n",
       "      <td>4.0</td>\n",
       "      <td>2.0</td>\n",
       "    </tr>\n",
       "  </tbody>\n",
       "</table>\n",
       "</div>"
      ],
      "text/plain": [
       "   x  y  x-x_mean  y-y_mean  (x-x_mean)2  (x-x_mean)(y-y_mean)\n",
       "0  1  2      -2.0      -2.0          4.0                   4.0\n",
       "1  2  4      -1.0       0.0          1.0                  -0.0\n",
       "2  3  5       0.0       1.0          0.0                   0.0\n",
       "3  4  4       1.0       0.0          1.0                   0.0\n",
       "4  5  5       2.0       1.0          4.0                   2.0"
      ]
     },
     "execution_count": 14,
     "metadata": {},
     "output_type": "execute_result"
    }
   ],
   "source": [
    "data_preparation([1,2,3,4,5],[2,4,5,4,5])"
   ]
  },
  {
   "cell_type": "code",
   "execution_count": 19,
   "id": "a614e5cd",
   "metadata": {},
   "outputs": [],
   "source": [
    "# This function calculates the value of b1\n",
    "def calculate_b1(x,y):\n",
    "    data_final=data_preparation(x,y)\n",
    "    b1=(data_final['(x-x_mean)(y-y_mean)'].sum())/(data_final['(x-x_mean)2'].sum())\n",
    "    print(f\"The value of b1={b1}\")\n",
    "    return b1"
   ]
  },
  {
   "cell_type": "code",
   "execution_count": 20,
   "id": "4381c140",
   "metadata": {},
   "outputs": [
    {
     "name": "stdout",
     "output_type": "stream",
     "text": [
      "The value of b1=0.6\n"
     ]
    },
    {
     "data": {
      "text/plain": [
       "0.6"
      ]
     },
     "execution_count": 20,
     "metadata": {},
     "output_type": "execute_result"
    }
   ],
   "source": [
    "calculate_b1([1,2,3,4,5],[2,4,5,4,5])"
   ]
  },
  {
   "cell_type": "code",
   "execution_count": 23,
   "id": "f73946fa",
   "metadata": {},
   "outputs": [],
   "source": [
    "#Calculates of b0 from the equation\n",
    "def calculate_b0(x,y):\n",
    "    data_finalforb0=data_preparation(x,y)\n",
    "    x_mean,y_mean=mean_data(x,y)\n",
    "    b1=calculate_b1(x,y)\n",
    "    b0=y_mean-(b1*x_mean)\n",
    "    print(f\"The value of b0={b0}\")\n",
    "    "
   ]
  },
  {
   "cell_type": "code",
   "execution_count": 22,
   "id": "dcb44ff2",
   "metadata": {
    "scrolled": true
   },
   "outputs": [
    {
     "name": "stdout",
     "output_type": "stream",
     "text": [
      "The value of b1=0.6\n",
      "The value of b0=2.2\n"
     ]
    }
   ],
   "source": [
    "calculate_b0([1,2,3,4,5],[2,4,5,4,5])"
   ]
  },
  {
   "cell_type": "markdown",
   "id": "2fb9cdb0",
   "metadata": {},
   "source": [
    "# Conclusion\n",
    "\n",
    "In this exercise , I have calculated b1 i.e. coefficeint also called slope and b0 also called intercept in the linear regression by using python without using any inbuilt machine learning library.I have successfully created pipeline for each step for the calculation of b1 and b0 from the linear regression"
   ]
  }
 ],
 "metadata": {
  "kernelspec": {
   "display_name": "Python 3",
   "language": "python",
   "name": "python3"
  },
  "language_info": {
   "codemirror_mode": {
    "name": "ipython",
    "version": 3
   },
   "file_extension": ".py",
   "mimetype": "text/x-python",
   "name": "python",
   "nbconvert_exporter": "python",
   "pygments_lexer": "ipython3",
   "version": "3.8.8"
  }
 },
 "nbformat": 4,
 "nbformat_minor": 5
}
